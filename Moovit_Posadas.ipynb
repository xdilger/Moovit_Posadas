{
 "cells": [
  {
   "cell_type": "code",
   "execution_count": 52,
   "id": "0e8af907",
   "metadata": {},
   "outputs": [],
   "source": [
    "import pandas as pd\n",
    "import xlsxwriter\n",
    "import numpy as np\n",
    "import re\n",
    "from bs4 import BeautifulSoup\n",
    "import time\n",
    "import requests"
   ]
  },
  {
   "cell_type": "code",
   "execution_count": 53,
   "id": "54298f3e",
   "metadata": {},
   "outputs": [],
   "source": [
    "#Transporte Integrado Misionero (TIM)\n",
    "linkstim = []\n",
    "titlestim = []\n",
    "ramaltim = []\n",
    "partim = []\n",
    "tim = 'https://moovitapp.com/index/es-419/transporte_p%C3%BAblico-lines-Posadas-3865-873520'"
   ]
  },
  {
   "cell_type": "code",
   "execution_count": 54,
   "id": "061a3132",
   "metadata": {},
   "outputs": [],
   "source": [
    "headers = {\"User-Agent\": \"Mozilla/5.0 (Windows NT 10.0; Win64; x64) AppleWebKit/537.36 (KHTML, like Gecko) Chrome/96.0.4664.110 Safari/537.36\"}\n",
    "page = requests.get(tim, headers=headers)\n",
    "soup1 = BeautifulSoup(page.content, \"lxml\")\n",
    "soup2 = BeautifulSoup(soup1.prettify(), \"lxml\")"
   ]
  },
  {
   "cell_type": "code",
   "execution_count": 55,
   "id": "c3dd7e8f",
   "metadata": {},
   "outputs": [],
   "source": [
    "for x in soup2.find_all('li', attrs ={'class':\"line-item line-data mobile-line\"}):\n",
    "    link = x.find('a')[\"href\"]\n",
    "    linkstim.append(link)\n",
    "    \n",
    "    ramal = x.find('strong', attrs={'class':\"line-title single-title\"})\n",
    "    ramaltim.append(ramal.text)"
   ]
  },
  {
   "cell_type": "code",
   "execution_count": 56,
   "id": "768fa0d7",
   "metadata": {},
   "outputs": [],
   "source": [
    "for link in linkstim:\n",
    "    new_w = requests.get(link, headers=headers)\n",
    "    new_s = BeautifulSoup(new_w.content, \"lxml\")\n",
    "\n",
    "    title = new_s.find('h1').find(text=True)\n",
    "    titlestim.append(title)\n",
    "        \n",
    "    parada = new_s.select('ul[class=\"stops-list bordered\"] h3')\n",
    "    for par in parada:\n",
    "        try:\n",
    "            partim.append(par.text)\n",
    "        except:\n",
    "            partim.append(np.NaN)"
   ]
  },
  {
   "cell_type": "code",
   "execution_count": 58,
   "id": "7e1c7087",
   "metadata": {},
   "outputs": [],
   "source": [
    "#Tipoka\n",
    "linkstip = []\n",
    "titlestip = []\n",
    "ramaltip = []\n",
    "partip = []\n",
    "tip = 'https://moovitapp.com/index/es-419/transporte_p%C3%BAblico-lines-Posadas-3865-888895'"
   ]
  },
  {
   "cell_type": "code",
   "execution_count": 59,
   "id": "2889b27f",
   "metadata": {},
   "outputs": [],
   "source": [
    "headers = {\"User-Agent\": \"Mozilla/5.0 (Windows NT 10.0; Win64; x64) AppleWebKit/537.36 (KHTML, like Gecko) Chrome/96.0.4664.110 Safari/537.36\"}\n",
    "page = requests.get(tip, headers=headers)\n",
    "soup1 = BeautifulSoup(page.content, \"lxml\")\n",
    "soup2 = BeautifulSoup(soup1.prettify(), \"lxml\")"
   ]
  },
  {
   "cell_type": "code",
   "execution_count": 60,
   "id": "b777dfc6",
   "metadata": {},
   "outputs": [],
   "source": [
    "for x in soup2.find_all('li', attrs ={'class':\"line-item line-data mobile-line\"}):\n",
    "    link = x.find('a')[\"href\"]\n",
    "    linkstip.append(link)\n",
    "    \n",
    "    ramal = x.find('strong', attrs={'class':\"line-title single-title\"})\n",
    "    ramaltip.append(ramal.text)"
   ]
  },
  {
   "cell_type": "code",
   "execution_count": 61,
   "id": "6d8485ce",
   "metadata": {},
   "outputs": [],
   "source": [
    "for link in linkstip:\n",
    "    new_w = requests.get(link, headers=headers)\n",
    "    new_s = BeautifulSoup(new_w.content, \"lxml\")\n",
    "\n",
    "    title = new_s.find('h1').find(text=True)\n",
    "    titlestip.append(title)\n",
    "    \n",
    "    parada = new_s.select('ul[class=\"stops-list bordered\"] h3')\n",
    "    for par in parada:\n",
    "        try:\n",
    "            partip.append(par.text)\n",
    "        except:\n",
    "            partip.append(np.NaN)"
   ]
  },
  {
   "cell_type": "code",
   "execution_count": 62,
   "id": "7006709a",
   "metadata": {},
   "outputs": [],
   "source": [
    "#Casimiro\n",
    "linkscas = []\n",
    "titlecas = []\n",
    "ramalcas = []\n",
    "parcas = []\n",
    "cas = 'https://moovitapp.com/index/es-419/transporte_p%C3%BAblico-lines-Posadas-3865-888896'"
   ]
  },
  {
   "cell_type": "code",
   "execution_count": 63,
   "id": "c9fab05c",
   "metadata": {},
   "outputs": [],
   "source": [
    "headers = {\"User-Agent\": \"Mozilla/5.0 (Windows NT 10.0; Win64; x64) AppleWebKit/537.36 (KHTML, like Gecko) Chrome/96.0.4664.110 Safari/537.36\"}\n",
    "page = requests.get(cas, headers=headers)\n",
    "soup1 = BeautifulSoup(page.content, \"lxml\")\n",
    "soup2 = BeautifulSoup(soup1.prettify(), \"lxml\")"
   ]
  },
  {
   "cell_type": "code",
   "execution_count": 64,
   "id": "542758cf",
   "metadata": {},
   "outputs": [],
   "source": [
    "for x in soup2.find_all('li', attrs ={'class':\"line-item line-data mobile-line\"}):\n",
    "    link = x.find('a')[\"href\"]\n",
    "    linkscas.append(link)\n",
    "    \n",
    "    ramal = x.find('strong', attrs={'class':\"line-title single-title\"})\n",
    "    ramalcas.append(ramal.text)"
   ]
  },
  {
   "cell_type": "code",
   "execution_count": 65,
   "id": "81a68c64",
   "metadata": {},
   "outputs": [],
   "source": [
    "for link in linkscas:\n",
    "    new_w = requests.get(link, headers=headers)\n",
    "    new_s = BeautifulSoup(new_w.content, \"lxml\")\n",
    "\n",
    "    title = new_s.find('h1').find(text=True)\n",
    "    titlecas.append(title)\n",
    "    \n",
    "    parada = new_s.select('ul[class=\"stops-list bordered\"] h3')\n",
    "    for par in parada:\n",
    "        try:\n",
    "            parcas.append(par.text)\n",
    "        except:\n",
    "            parcas.append(np.NaN)"
   ]
  },
  {
   "cell_type": "code",
   "execution_count": 66,
   "id": "5b6fc2d7",
   "metadata": {},
   "outputs": [],
   "source": [
    "#Bencivenga\n",
    "linksb = []\n",
    "titleb = []\n",
    "ramalb = []\n",
    "parb = []\n",
    "ben = 'https://moovitapp.com/index/es-419/transporte_p%C3%BAblico-lines-Posadas-3865-888897'"
   ]
  },
  {
   "cell_type": "code",
   "execution_count": 67,
   "id": "b4c8053a",
   "metadata": {},
   "outputs": [],
   "source": [
    "headers = {\"User-Agent\": \"Mozilla/5.0 (Windows NT 10.0; Win64; x64) AppleWebKit/537.36 (KHTML, like Gecko) Chrome/96.0.4664.110 Safari/537.36\"}\n",
    "page = requests.get(ben, headers=headers)\n",
    "soup1 = BeautifulSoup(page.content, \"lxml\")\n",
    "soup2 = BeautifulSoup(soup1.prettify(), \"lxml\")"
   ]
  },
  {
   "cell_type": "code",
   "execution_count": 68,
   "id": "27352e1e",
   "metadata": {},
   "outputs": [],
   "source": [
    "for x in soup2.find_all('li', attrs ={'class':\"line-item line-data mobile-line\"}):\n",
    "    link = x.find('a')[\"href\"]\n",
    "    linksb.append(link)\n",
    "    \n",
    "    ramal = x.find('strong', attrs={'class':\"line-title single-title\"})\n",
    "    ramalb.append(ramal.text)"
   ]
  },
  {
   "cell_type": "code",
   "execution_count": 69,
   "id": "bcd86c99",
   "metadata": {},
   "outputs": [],
   "source": [
    "for link in linksb:\n",
    "    new_w = requests.get(link, headers=headers)\n",
    "    new_s = BeautifulSoup(new_w.content, \"lxml\")\n",
    "\n",
    "    title = new_s.find('h1').find(text=True)\n",
    "    titleb.append(title)\n",
    "    \n",
    "    parada = new_s.select('ul[class=\"stops-list bordered\"] h3')\n",
    "    for par in parada:\n",
    "        try:\n",
    "            parb.append(par.text)\n",
    "        except:\n",
    "            parb.append(np.NaN)"
   ]
  },
  {
   "cell_type": "code",
   "execution_count": 73,
   "id": "4c38ad0a",
   "metadata": {},
   "outputs": [
    {
     "name": "stdout",
     "output_type": "stream",
     "text": [
      "['Av. Cmte. Andresito E/ Calle 136 Y Calle 137a', 'Avenida J. E. Vivanco, 3300', 'Calle 141, 3300', 'Calle 141 Y Calle 112a', 'Calle 141 Y Calle Carola Lorenzini', 'Calle 141 Y Av. Santa Cruz', 'Av. Santa Cruz Y Calle Tripepi', 'Av. Santa Cruz Y Av. Jauretche', 'Av. Santa Cruz Y Av. Monseñor De Andrea', 'Av. Santa Cruz Y Av. Areco (115)', 'Av. Santa Cruz Y Calle Maciel', 'Av. Santa Cruz Y Av. Zapiola', 'Av. Santa Cruz Y Calle 103', 'Av. Santa Cruz Y Av. Aguado', 'Avenida Aguado, 5630', 'Calle 106, 4922', 'Avenida Bustamante, 4947', 'Avenida Ituzaingó, 4873', 'Av. Ituzaingó Y Calle Las Araucarias', 'Av. Ituzaingó Y Calle Apóstoles', 'Av. Ituzaingó Y Av. San Martín', 'Av.  Ituzaingó Y Av. Tomás Guido', 'Av. Ituzaingó Y Calle Rocamora', 'Av. Ituzaingó Y Av. Santa Catalina', 'Avenida Ituzaingó, 2929', 'Av. Lavalle Y Av. Chacabuco', 'Av. Lavalle Y Av. Martin Fierro', 'Av. Lavalle Y Av. Almte Brown', 'Av. Lavalle Y Calle Bosetti', 'Av. Lavalle Y Calle Queirel', 'Av. López Y Planes Y Calle Morcillo', 'Av. Mitre Y Av. Francisco De Haro', 'Av. Mitre Y Calle Junín', 'Av. Mitre Y Calle España', 'Calle Buenos Aires Y Calle Santiago Del Estero', 'Calle Buenos Aires Y Calle Catamarca', 'Calle Buenos Aires Y Calle Bolívar', 'Calle Buenos Aires Y Calle Sarmiento', 'Calle Buenos Aires Y Calle Belgrano', 'Calle Alberdi Y Av. Roque Pérez', 'Calle Alberdi Y Calle Pedernera', 'Calle  Alberdi Y Calle Ivanowski', 'Calle Sgto. Cabral Y Calle A. Acuña', 'Calle Sgto. Cabral Y Calle N. Castro', 'Av. Gdor. Roca Y Calle Combate De Mbororé', 'Av. Gdor. Roca Y Av. Almafuerte', 'Av. Gdor. Roca Y Calle Cnel. Álvarez', 'Av. Urquiza Y Calle Iguazú', 'Av. Urquiza Y Av. Gendarmería Nacional', 'Av. Urquiza Y Av. Comodoro Rivadavia', 'Calle 22, 3282', 'Av. Cmte. Andresito E/ Calle 136 Y Calle 137a', 'Avenida J. E. Vivanco, 3300', 'Calle 141, 3300', 'Calle 141 Y Calle 112a', 'Calle 141 Y Calle Carola Lorenzini', 'Calle 141 Y Av. Santa Cruz', 'Av. Santa Cruz Y Calle Tripepi', 'Av. Santa Cruz Y Av. Jauretche', 'Av. Santa Cruz Y Av. Monseñor De Andrea', 'Av. Santa Cruz Y Av. Areco (115)', 'Av. Santa Cruz Y Calle Maciel', 'Av. Santa Cruz Y Av. Zapiola', 'Av. Santa Cruz Y Calle 103', 'Av. Santa Cruz Y Av. Aguado', 'Av. Santa Cruz Y Av. Las Heras', 'Av. Santa Cruz Y Calle Artigas', 'Av. Santa Cruz Y Calle Serrano', 'Av. Santa Cruz Y Av. Tomás Guido', 'Av. Santa Cruz Y Calle Franklin', 'Av. Santa Catalina C/ Calle Alto Paraná (Terminal)', 'Avenida General Lavalle, 5905', 'Av. Lavalle Y Calle Japon', 'Av. Lavalle Y Av. Cmte. Andresito', 'Av. Lavalle Y Calle Alemania (Ch. 32-33)', 'Av. Lavalle Y Av. Bustamante', 'Av.  Lavalle Y Av. Ituzaingo', 'Av. Lavalle Y Av. Chacabuco', 'Av. Lavalle Y Av. Martin Fierro', 'Av. Lavalle Y Av. Almte Brown', 'Av. Lavalle Y Calle Bosetti', 'Av. Lavalle Y Calle Queirel', 'Av. López Y Planes Y Calle Morcillo', 'Av. Mitre Y Av. Francisco De Haro', 'Av. Mitre Y Calle Junín', 'Av. Mitre Y Calle España', 'Calle Buenos Aires Y Calle Santiago Del Estero', 'Calle Buenos Aires Y Calle Catamarca', 'Calle Buenos Aires Y Calle Bolívar', 'Calle Buenos Aires Y Calle Sarmiento', 'Calle Buenos Aires Y Calle Belgrano', 'Calle Alberdi Y Av. Roque Pérez', 'Calle Alberdi Y Calle Pedernera', 'Calle  Alberdi Y Calle Ivanowski', 'Calle Sgto. Cabral Y Calle A. Acuña', 'Calle Sgto. Cabral Y Calle N. Castro', 'Av. Gdor. Roca Y Calle Combate De Mbororé', 'Av. Gdor. Roca Y Av. Almafuerte', 'Av. Gdor. Roca Y Calle Cnel. Álvarez', 'Av. Urquiza Y Calle Iguazú', 'Av. Urquiza Y Av. Gendarmería Nacional', 'Av. Urquiza Y Av. Comodoro Rivadavia', 'Calle 22, 3282', 'Calle R. González Y Calle Hernández', 'Calle R. González Y Calle Pedernera', 'Calle R. González Y Av. Roque Pérez', 'Calle Junín Y Calle Alvear', 'Calle Junín Y Calle Sarmiento', 'Estación Junín (Andén 2)', 'Calle Junín Y Calle Santiago Del Estero', 'Av. Mitre C/ Av. Corrientes', 'Av. Francisco De Haro Y Calle Barrufaldi', 'Av. B. Parera Y Calle Morcillo', 'Av. B. Parera Y Calle Tripoli', 'Avenida Santa Catalina, 3127', 'Av. Santa Catalina Y Av. Almirante Brown', 'Av. Almte. Brown Y Calle Rocamora', 'Av. Almte. Brown Y Av. T. Guido', 'Av. Almte. Brown Y Av. San Martín', 'Av. San Martín Y Av. Martin Fierro', 'Av. San Martín Y Calle 84', 'Av. Chacabuco Y Av. Las Heras', 'Av. Chacabuco Y Av. Aguado', 'Av. Chacabuco Y Av. Zapiola', 'Av. Chacabuco Y Calle Maciel', 'Av. Chacabuco Y Av. Lucas B. Areco (115)', 'Av. Chacabuco Y Av. Monseñor De Andrea', 'Av. Chacabuco Y Av. Jauretche', 'Av. Chacabuco Y Av. Vivanco', 'Av. Chacabuco Y Av. Eva Perón', 'Av. Chacabuco Y Calle 149', 'Av. Chacabuco Y Av. Costanera Oeste', 'Ituzaingó Y Av. Eva Perón', 'Av. Ituzaingó Y Calle 141a', 'Av. Ituzaingó Y Av. Vivanco', 'Av. Vivanco Y Calle 96', 'Av. Vivanco Y Av. Bustamante', 'Calle 135a, 5030', 'Calle 135a, 5158', 'Calle 135a, 5236', 'Av. Cmte. Andresito E/ Calle 136 Y Calle 137a', 'Calle Arévalo Y Calle 161a', 'Avenida López Y Planes, 7297', 'Av. López Y Planes Y Av. Kolping', 'Avenida Vicente López Y Planes, 7400', 'Av. López Y Planes Y Calle Catalano', 'Av. López Y Planes Y Av. Vivanco', 'Av. López Y Planes Y Av. Jauretche (Campus Dachary)', 'Avenida López Y Planes, 6311', 'Av. López Y Planes Y Calle Pérez', 'Av. López Y Planes C/ Av. Areco (115)', 'Av. López Y Planes Y Av. Zapiola', 'Av. López Y Planes Y Calle Serrano', 'Av. López Y Planes Y Calle Posadas', 'Av. López Y Planes Y Calle 87', 'Av.López Y Planes Y Av. San Martín', 'Av. López Y Planes Y Calle Comandante Miño', 'Av. López Y Planes Y Calle Rocamora', 'Av. López Y Planes ( Emp. Bencivenga)', 'Av. López Y Planes Y Calle Morcillo', 'Av. Corrientes Y Calle Santiago Del Estero', 'Av. Corrientes Y Calle Catamarca', 'Av. Corrientes Y Calle Bolívar', 'Av. Corrientes E/ Calle Sarmiento Y San Martín', 'Calle Santa Fe Y Calle San Luis', 'Calle Santa Fe Y Calle San Lorenzo', 'Calle Santa Fe Y Calle Buenos Aires', 'Calle Santa Fe Y Calle 3 De Febrero', 'Calle 25 De Mayo Y Calle Sarmiento', 'Calle San Martín Y Av. Roque Sáenz Peña', 'Av. Roque Sáenz Peña Y Calle Córdoba', 'Av. Roque Sáenz Peña Y Calle Salta', 'Av. Roque Sáenz Peña Y Av. Mitre', 'Av. Marconi Y Av. Trincheras De San José', 'Avenida Marconi, 3388', 'Rn 105 (Estación De Tren)', 'Calle Arévalo Y Calle 161a', 'Avenida López Y Planes, 7297', 'Av. López Y Planes Y Av. Kolping', 'Avenida Vicente López Y Planes, 7400', 'Av. López Y Planes Y Calle Catalano', 'Av. López Y Planes Y Av. Vivanco', 'Av. López Y Planes Y Av. Jauretche (Campus Dachary)', 'Avenida López Y Planes, 6311', 'Av. López Y Planes Y Calle Pérez', 'Av. López Y Planes C/ Av. Areco (115)', 'Av. López Y Planes Y Av. Zapiola', 'Av. López Y Planes Y Calle Serrano', 'Av. López Y Planes Y Calle Posadas', 'Av. López Y Planes Y Calle 87', 'Av.López Y Planes Y Av. San Martín', 'Av. López Y Planes Y Calle Comandante Miño', 'Av. López Y Planes Y Calle Rocamora', 'Av. López Y Planes ( Emp. Bencivenga)', 'Av. López Y Planes Y Calle Morcillo', 'Av. Corrientes Y Calle Santiago Del Estero', 'Av. Corrientes Y Calle Catamarca', 'Calle Entre Ríos Y Calle San Luis', 'Calle Entre Ríos Y Calle Ayacucho', 'Calle Entre Ríos Y Calle Colón', 'Calle Entre Ríos E/ Calle Buenos Aires Y Rivadavia', 'Calle Entre Ríos Y Calle 25 De Mayo', 'Calle Entre Ríos Y Av. Roque Sáenz Peña', 'Av. Roque Sáenz Peña Y Calle Salta', 'Av. Roque Sáenz Peña Y Av. Mitre', 'Av. López Torres Y Calle Vicente Casares', 'Avenida López Torres, 3078', 'Av. López Torres Y Av. Mariano Moreno', 'Av. López Torres Y Calle Ambrosetti', 'Av. Cabred Y Av. López Torres', 'Avenida Marconi, 3821', 'Av. Polonia Y Av. Roque Sáenz Peña', 'Sarmiento, 1233', 'Calle Sarmiento Y Calle 25 De Mayo', 'Calle Sarmiento Y Calle 3 De Febrero', 'Calle Sarmiento Y Calle Buenos Aires', 'Sarmiento, 1890', 'Calle Sarmiento Y Calle Junin', 'Calle Sarmiento Y Calle Jujuy', 'Av. Corrientes E/ Calle Yrigoyen Y Av. Centenario', 'Av. Corrientes Y Calle Carlos Pellegrini', 'Av. Francisco De Haro Y Calle Barrufaldi', 'Av. B. Parera Y Calle Morcillo', 'Av. B. Parera Y Calle Tripoli', 'Av. B. Parera Y Calle Rocamora', 'Avenida Blas Parera, 3678', 'Av. B. Parera Y Av. San Martin', 'Av. San Martín Y Calle Alejo Peyret', 'Av. San Martín Y Av. Martin Fierro', 'Av. San Martín Y Calle 84', 'Av. San Martín Y Av. Ituzaingo', 'Av. San Martín Y Calle Santa Ana', 'Av. San Martín Y Av. Bustamante', 'Av. San Martín Y Av. Comandante Andresito', 'Av. San Martín Y Calle Japón', 'Av. Santa Cruz Y Calle Serrano', 'Av. Santa Cruz Y Av. Tomás Guido', 'Av. Santa Cruz Y Calle Franklin', 'Av. Santa Catalina C/ Calle Alto Paraná (Terminal)', 'Colectora Av. Quaranta Y Av. T. Guido (Hipermercado Libertad)', 'Av. Quaranta Y Calle Cte. Miño (Empresa Río Uruguay)', 'Av. Quaranta Y Av. San Martin', 'Av. Quaranta Y Calle Humberto Pérez', 'Av. Quaranta Y Calle 103', 'Av. Quaranta Y Av. Zapiola', 'Av. Quaranta Y Av. Lucas B. Areco (115)', 'Av. Quaranta Y Av. Monseñor De Andrea', 'Av. Quaranta Y Calle 127', 'Av. Quaranta Y Calle 141 (Acceso A Morgue)', 'Av. Quaranta E/ Av. 147 Y Calle 143', 'Av. U. Lopez Y Av. Quaranta', 'Estación Silicon Misiones', 'Aeroparque', 'Av. Polonia Y Av. Roque Sáenz Peña', 'Sarmiento, 1233', 'Calle Sarmiento Y Calle 25 De Mayo', 'Calle Sarmiento Y Calle 3 De Febrero', 'Calle Sarmiento Y Calle Buenos Aires', 'Sarmiento, 1890', 'Calle Sarmiento Y Calle Junin', 'Calle Sarmiento Y Calle Jujuy', 'Av. Corrientes E/ Calle Yrigoyen Y Av. Centenario', 'Av. Corrientes Y Calle Carlos Pellegrini', 'Av. Francisco De Haro Y Calle Barrufaldi', 'Av. B. Parera Y Calle Morcillo', 'Av. B. Parera Y Calle Tripoli', 'Av. B. Parera Y Calle Rocamora', 'Avenida Blas Parera, 3678', 'Av. B. Parera Y Av. San Martin', 'Av. San Martín Y Calle Alejo Peyret', 'Av. San Martín Y Av. Martin Fierro', 'Av. San Martín Y Calle 84', 'Av. San Martín Y Av. Ituzaingo', 'Av. San Martín Y Calle Santa Ana', 'Av. San Martín Y Av. Bustamante', 'Av. San Martín Y Av. Comandante Andresito', 'Av. San Martín Y Calle Japón', 'Av. Santa Cruz Y Calle Serrano', 'Av. Santa Cruz Y Av. Tomás Guido', 'Av. Santa Cruz Y Calle Franklin', 'Av. Santa Catalina C/ Calle Alto Paraná (Terminal)', 'Colectora Av. Quaranta Y Av. T. Guido (Hipermercado Libertad)', 'Av. Quaranta Y Calle Cte. Miño (Empresa Río Uruguay)', 'Av. Quaranta Y Av. San Martin', 'Av. Quaranta Y Calle Humberto Pérez', 'Av. Quaranta Y Calle 103', 'Av. Quaranta Y Av. Zapiola', 'Av. Quaranta Y Av. Lucas B. Areco (115)', 'Av. Quaranta Y Av. Monseñor De Andrea', 'Av. Quaranta Y Calle 127', 'Av. Quaranta Y Calle 141 (Acceso A Morgue)', 'Av. Quaranta E/ Av. 147 Y Calle 143', 'Acceso Oeste (Hotel Maitei)', 'Av. José Sorsana (Acceso Aeropuerto Viejo)', 'Av. Polonia Y Av. Roque Sáenz Peña', 'Sarmiento, 1233', 'Calle Sarmiento Y Calle 25 De Mayo', 'Calle Sarmiento Y Calle 3 De Febrero', 'Calle Sarmiento Y Calle Buenos Aires', 'Sarmiento, 1890', 'Calle Sarmiento Y Calle Junin', 'Calle Sarmiento Y Calle Jujuy', 'Av. Corrientes E/ Calle Yrigoyen Y Av. Centenario', 'Av. Corrientes Y Calle Carlos Pellegrini', 'Av. Francisco De Haro Y Calle Barrufaldi', 'Av. B. Parera Y Calle Morcillo', 'Av. B. Parera Y Calle Tripoli', 'Av. B. Parera Y Calle Rocamora', 'Avenida Blas Parera, 3678', 'Av. B. Parera Y Av. San Martin', 'Av. San Martín Y Calle Alejo Peyret', 'Av. San Martín Y Av. Martin Fierro', 'Av. San Martín Y Calle 84', 'Av. San Martín Y Av. Ituzaingo', 'Av. San Martín Y Calle Santa Ana', 'Av. San Martín Y Av. Bustamante', 'Av. San Martín Y Av. Comandante Andresito', 'Av. San Martín Y Calle Japón', 'Av. Santa Cruz Y Calle Serrano', 'Av. Santa Cruz Y Av. Tomás Guido', 'Av. Santa Cruz Y Calle Franklin', 'Av. Santa Catalina C/ Calle Alto Paraná (Terminal)', 'Colectora Av. Quaranta Y Av. T. Guido (Hipermercado Libertad)', 'Av. Quaranta Y Calle Cte. Miño (Empresa Río Uruguay)', 'Av. Quaranta Y Av. San Martin', 'Av. Quaranta Y Calle Humberto Pérez', 'Av. Quaranta Y Calle 103', 'Av. Quaranta Y Av. Zapiola', 'Av. Quaranta Y Av. Lucas B. Areco (115)', 'Av. Quaranta Y Av. Monseñor De Andrea', 'Av. Quaranta Y Calle 127', 'Av. Quaranta Y Calle 141 (Acceso A Morgue)', 'Av. Quaranta E/ Av. 147 Y Calle 143', 'Acceso Oeste (Hotel Maitei)', 'Av. José Sorsana (Acceso Aeropuerto Viejo)', 'Calle Pedro Forés (Acceso A Base Militar)', 'Calle Pedro Forés (Cantera Santa María)', 'Calle 106', 'Av. Los Lapachos Y Av. El Puma', 'Av. El Puma Y Av. Pino Paraná', 'Av. Pino Paraná Y Calle Lluvia De Oro', 'Av. Pino Paraná Y Calle Cancharana', 'Av. Pino Paraná Y Calle Araucaria', 'Av. Pino Paraná Y Calle Tarumá', 'Av. Pino Paraná Y Calle Laurel', 'Calle Laurel Y Av. Los Lapachos', 'Av. Polonia Y Av. Roque Sáenz Peña', 'Sarmiento, 1233', 'Calle Sarmiento Y Calle 25 De Mayo', 'Calle Sarmiento Y Calle 3 De Febrero', 'Calle Sarmiento Y Calle Buenos Aires', 'Sarmiento, 1890', 'Calle Sarmiento Y Calle Junin', 'Calle Sarmiento Y Calle Jujuy', 'Av. Corrientes E/ Calle Yrigoyen Y Av. Centenario', 'Av. Corrientes Y Calle Carlos Pellegrini', 'Av. Francisco De Haro Y Calle Barrufaldi', 'Av. B. Parera Y Calle Morcillo', 'Av. B. Parera Y Calle Tripoli', 'Av. B. Parera Y Calle Rocamora', 'Avenida Blas Parera, 3678', 'Av. B. Parera Y Av. San Martin', 'Av. San Martín Y Calle Alejo Peyret', 'Av. San Martín Y Av. Martin Fierro', 'Av. San Martín Y Calle 84', 'Av. San Martín Y Av. Ituzaingo', 'Av. San Martín Y Calle Santa Ana', 'Av. San Martín Y Av. Bustamante', 'Av. San Martín Y Av. Comandante Andresito', 'Av. San Martín Y Calle Japón', 'Av. Santa Cruz Y Calle Serrano', 'Av. Santa Cruz Y Av. Tomás Guido', 'Av. Santa Cruz Y Calle Franklin', 'Av. Santa Catalina C/ Calle Alto Paraná (Terminal)', 'Colectora Av. Quaranta Y Av. T. Guido (Hipermercado Libertad)', 'Av. Quaranta Y Calle Cte. Miño (Empresa Río Uruguay)', 'Av. Quaranta Y Av. San Martin', 'Av. Quaranta Y Calle Humberto Pérez', 'Av. Quaranta Y Calle 103', 'Av. Quaranta Y Av. Zapiola', 'Av. Quaranta Y Av. Lucas B. Areco (115)', 'Av. Areco (115 ) Y Av. Santa Cruz', 'Avenida Santa Cruz, 6124', 'Av. Santa Cruz Y Av. Jauretche', 'Av. Cmte. Andresito Y Av. Jauretche', 'Av. Cmte. Andresito E/ Calle 136 Y Calle 137a', 'Avenida J. E. Vivanco, 3300', 'Calle 141, 3300', 'Calle 141 Y Calle 112a', 'Calle 141 Y Calle Carola Lorenzini', 'Calle 141 Y Av. Santa Cruz', 'Av. Santa Cruz Y Calle Tripepi', 'Av. Santa Cruz Y Av. Jauretche', 'Av. Jauretche Y Calle 124', 'Av. Quaranta Y Calle 141 (Acceso A Morgue)', 'Av. Quaranta E/ Av. 147 Y Calle 143', 'Av. U. Lopez Y Av. Quaranta', 'Estación Silicon Misiones', 'Aeroparque', 'Parada (Inicio De Línea 28)', 'Camino A Parma', 'Camino A Parma', 'Calle 38 Y Calle 261', 'Calle 38 Y Calle 263', 'Calle 263 Y Calle 42', 'Calle 263', 'Calle 263', 'Calle 62 Y Calle 243 (Esc. 484)', 'Calle 62 Y Calle Juan Aníbal De Bermudez', 'Juan Aníbal Bermudez', 'Parada (Plaza B° Cruz Del Sur)', 'Calle Juan Aníbal De Bermudez Y Av. Los Lapachos', 'Calle 106', 'Calle Pedro Forés (Acceso A Cantera Santa María)', 'Calle Pedro Forés (Acceso A Base Militar)', 'Av. José Sorsana (Acceso Aeropuerto Viejo)', 'Av. Acceso Oeste Y Calle 163 (Bº Carlos Pellegrini)', 'Av. Quaranta Y Av. 147', 'Av. Quaranta Y Calle 141', 'Av. Quaranta Y Calle 129', 'Av. Quaranta Y Calle 123', 'Av. Quaranta Y Y Calle 113', 'Av. Quaranta Y Av. Zapiola', 'Av. Quaranta Y Calle 103', 'Av. Quaranta Y Calle Humberto Pérez', 'Av. Quaranta Y Calle Artigas', 'Av. Quaranta Y Calle Mosconi (Empresa Río Uruguay)', 'Avenida Tomás Guido, 5930', 'Av. Santa Cruz Y Calle Franklin', 'Av. Santa Catalina C/ Calle Alto Paraná (Terminal)', 'Colectora Av. Quaranta Y Av. T. Guido (Hipermercado Libertad)', 'Av. Quaranta Y Calle Cte. Miño (Empresa Río Uruguay)', 'Av. San Martín Y Av. Santa Cruz', 'Av. San Martín Y Av. Comandante Andresito', 'Av. San Martín Y Av. Bustamante', 'Av. San Martín Y Calle Santa Ana', 'Av. San Martín Y Av. Ituzaingó', 'Av. San Martín Y Av. Chacabuco', 'Av. San Martín Y Av. Martin Fierro', 'Av. San Martín Y Av. Almirante Brown', 'Av.San Martin Y Av. B. Parera', 'Avenida López Y Planes, 4071', 'Av. López Y Planes Y Calle Comandante Miño', 'Av. López Y Planes Y Calle Rocamora', 'Av. López Y Planes ( Emp. Bencivenga)', 'Av. López Y Planes Y Calle Morcillo', 'Av. Corrientes Y Calle Santiago Del Estero', 'Av. Corrientes Y Calle Catamarca', 'Av. Corrientes Y Calle Bolívar', 'Av. Corrientes E/ Calle Sarmiento Y San Martín', 'Calle Santa Fe Y Calle San Luis', 'Calle Santa Fe Y Calle San Lorenzo', 'Calle Santa Fe Y Calle Buenos Aires', 'Calle Santa Fe Y Calle 3 De Febrero', 'Av. Polonia Y Calle Belgrano']\n"
     ]
    }
   ],
   "source": [
    "print(parb)"
   ]
  },
  {
   "cell_type": "code",
   "execution_count": 70,
   "id": "c2f514f8",
   "metadata": {},
   "outputs": [
    {
     "ename": "ValueError",
     "evalue": "Per-column arrays must each be 1-dimensional",
     "output_type": "error",
     "traceback": [
      "\u001b[1;31m---------------------------------------------------------------------------\u001b[0m",
      "\u001b[1;31mValueError\u001b[0m                                Traceback (most recent call last)",
      "Input \u001b[1;32mIn [70]\u001b[0m, in \u001b[0;36m<cell line: 1>\u001b[1;34m()\u001b[0m\n\u001b[1;32m----> 1\u001b[0m df \u001b[38;5;241m=\u001b[39m \u001b[43mpd\u001b[49m\u001b[38;5;241;43m.\u001b[39;49m\u001b[43mDataFrame\u001b[49m\u001b[43m(\u001b[49m\u001b[43m{\u001b[49m\u001b[38;5;124;43m'\u001b[39;49m\u001b[38;5;124;43mLinea\u001b[39;49m\u001b[38;5;124;43m'\u001b[39;49m\u001b[43m:\u001b[49m\u001b[43m \u001b[49m\u001b[43mtitlestim\u001b[49m\u001b[43m,\u001b[49m\u001b[43m \u001b[49m\u001b[38;5;124;43m'\u001b[39;49m\u001b[38;5;124;43mRamal\u001b[39;49m\u001b[38;5;124;43m'\u001b[39;49m\u001b[43m:\u001b[49m\u001b[43mramaltim\u001b[49m\u001b[43m,\u001b[49m\u001b[43m \u001b[49m\u001b[38;5;124;43m'\u001b[39;49m\u001b[38;5;124;43mParadas\u001b[39;49m\u001b[38;5;124;43m'\u001b[39;49m\u001b[43m:\u001b[49m\u001b[43mpar_t\u001b[49m\u001b[43m}\u001b[49m\u001b[43m)\u001b[49m\n\u001b[0;32m      2\u001b[0m df[\u001b[38;5;124m'\u001b[39m\u001b[38;5;124mRamal\u001b[39m\u001b[38;5;124m'\u001b[39m] \u001b[38;5;241m=\u001b[39m df[\u001b[38;5;124m'\u001b[39m\u001b[38;5;124mRamal\u001b[39m\u001b[38;5;124m'\u001b[39m]\u001b[38;5;241m.\u001b[39mstr\u001b[38;5;241m.\u001b[39mstrip()\n",
      "File \u001b[1;32m~\\anaconda3\\lib\\site-packages\\pandas\\core\\frame.py:636\u001b[0m, in \u001b[0;36mDataFrame.__init__\u001b[1;34m(self, data, index, columns, dtype, copy)\u001b[0m\n\u001b[0;32m    630\u001b[0m     mgr \u001b[38;5;241m=\u001b[39m \u001b[38;5;28mself\u001b[39m\u001b[38;5;241m.\u001b[39m_init_mgr(\n\u001b[0;32m    631\u001b[0m         data, axes\u001b[38;5;241m=\u001b[39m{\u001b[38;5;124m\"\u001b[39m\u001b[38;5;124mindex\u001b[39m\u001b[38;5;124m\"\u001b[39m: index, \u001b[38;5;124m\"\u001b[39m\u001b[38;5;124mcolumns\u001b[39m\u001b[38;5;124m\"\u001b[39m: columns}, dtype\u001b[38;5;241m=\u001b[39mdtype, copy\u001b[38;5;241m=\u001b[39mcopy\n\u001b[0;32m    632\u001b[0m     )\n\u001b[0;32m    634\u001b[0m \u001b[38;5;28;01melif\u001b[39;00m \u001b[38;5;28misinstance\u001b[39m(data, \u001b[38;5;28mdict\u001b[39m):\n\u001b[0;32m    635\u001b[0m     \u001b[38;5;66;03m# GH#38939 de facto copy defaults to False only in non-dict cases\u001b[39;00m\n\u001b[1;32m--> 636\u001b[0m     mgr \u001b[38;5;241m=\u001b[39m \u001b[43mdict_to_mgr\u001b[49m\u001b[43m(\u001b[49m\u001b[43mdata\u001b[49m\u001b[43m,\u001b[49m\u001b[43m \u001b[49m\u001b[43mindex\u001b[49m\u001b[43m,\u001b[49m\u001b[43m \u001b[49m\u001b[43mcolumns\u001b[49m\u001b[43m,\u001b[49m\u001b[43m \u001b[49m\u001b[43mdtype\u001b[49m\u001b[38;5;241;43m=\u001b[39;49m\u001b[43mdtype\u001b[49m\u001b[43m,\u001b[49m\u001b[43m \u001b[49m\u001b[43mcopy\u001b[49m\u001b[38;5;241;43m=\u001b[39;49m\u001b[43mcopy\u001b[49m\u001b[43m,\u001b[49m\u001b[43m \u001b[49m\u001b[43mtyp\u001b[49m\u001b[38;5;241;43m=\u001b[39;49m\u001b[43mmanager\u001b[49m\u001b[43m)\u001b[49m\n\u001b[0;32m    637\u001b[0m \u001b[38;5;28;01melif\u001b[39;00m \u001b[38;5;28misinstance\u001b[39m(data, ma\u001b[38;5;241m.\u001b[39mMaskedArray):\n\u001b[0;32m    638\u001b[0m     \u001b[38;5;28;01mimport\u001b[39;00m \u001b[38;5;21;01mnumpy\u001b[39;00m\u001b[38;5;21;01m.\u001b[39;00m\u001b[38;5;21;01mma\u001b[39;00m\u001b[38;5;21;01m.\u001b[39;00m\u001b[38;5;21;01mmrecords\u001b[39;00m \u001b[38;5;28;01mas\u001b[39;00m \u001b[38;5;21;01mmrecords\u001b[39;00m\n",
      "File \u001b[1;32m~\\anaconda3\\lib\\site-packages\\pandas\\core\\internals\\construction.py:502\u001b[0m, in \u001b[0;36mdict_to_mgr\u001b[1;34m(data, index, columns, dtype, typ, copy)\u001b[0m\n\u001b[0;32m    494\u001b[0m     arrays \u001b[38;5;241m=\u001b[39m [\n\u001b[0;32m    495\u001b[0m         x\n\u001b[0;32m    496\u001b[0m         \u001b[38;5;28;01mif\u001b[39;00m \u001b[38;5;129;01mnot\u001b[39;00m \u001b[38;5;28mhasattr\u001b[39m(x, \u001b[38;5;124m\"\u001b[39m\u001b[38;5;124mdtype\u001b[39m\u001b[38;5;124m\"\u001b[39m) \u001b[38;5;129;01mor\u001b[39;00m \u001b[38;5;129;01mnot\u001b[39;00m \u001b[38;5;28misinstance\u001b[39m(x\u001b[38;5;241m.\u001b[39mdtype, ExtensionDtype)\n\u001b[0;32m    497\u001b[0m         \u001b[38;5;28;01melse\u001b[39;00m x\u001b[38;5;241m.\u001b[39mcopy()\n\u001b[0;32m    498\u001b[0m         \u001b[38;5;28;01mfor\u001b[39;00m x \u001b[38;5;129;01min\u001b[39;00m arrays\n\u001b[0;32m    499\u001b[0m     ]\n\u001b[0;32m    500\u001b[0m     \u001b[38;5;66;03m# TODO: can we get rid of the dt64tz special case above?\u001b[39;00m\n\u001b[1;32m--> 502\u001b[0m \u001b[38;5;28;01mreturn\u001b[39;00m \u001b[43marrays_to_mgr\u001b[49m\u001b[43m(\u001b[49m\u001b[43marrays\u001b[49m\u001b[43m,\u001b[49m\u001b[43m \u001b[49m\u001b[43mcolumns\u001b[49m\u001b[43m,\u001b[49m\u001b[43m \u001b[49m\u001b[43mindex\u001b[49m\u001b[43m,\u001b[49m\u001b[43m \u001b[49m\u001b[43mdtype\u001b[49m\u001b[38;5;241;43m=\u001b[39;49m\u001b[43mdtype\u001b[49m\u001b[43m,\u001b[49m\u001b[43m \u001b[49m\u001b[43mtyp\u001b[49m\u001b[38;5;241;43m=\u001b[39;49m\u001b[43mtyp\u001b[49m\u001b[43m,\u001b[49m\u001b[43m \u001b[49m\u001b[43mconsolidate\u001b[49m\u001b[38;5;241;43m=\u001b[39;49m\u001b[43mcopy\u001b[49m\u001b[43m)\u001b[49m\n",
      "File \u001b[1;32m~\\anaconda3\\lib\\site-packages\\pandas\\core\\internals\\construction.py:120\u001b[0m, in \u001b[0;36marrays_to_mgr\u001b[1;34m(arrays, columns, index, dtype, verify_integrity, typ, consolidate)\u001b[0m\n\u001b[0;32m    117\u001b[0m \u001b[38;5;28;01mif\u001b[39;00m verify_integrity:\n\u001b[0;32m    118\u001b[0m     \u001b[38;5;66;03m# figure out the index, if necessary\u001b[39;00m\n\u001b[0;32m    119\u001b[0m     \u001b[38;5;28;01mif\u001b[39;00m index \u001b[38;5;129;01mis\u001b[39;00m \u001b[38;5;28;01mNone\u001b[39;00m:\n\u001b[1;32m--> 120\u001b[0m         index \u001b[38;5;241m=\u001b[39m \u001b[43m_extract_index\u001b[49m\u001b[43m(\u001b[49m\u001b[43marrays\u001b[49m\u001b[43m)\u001b[49m\n\u001b[0;32m    121\u001b[0m     \u001b[38;5;28;01melse\u001b[39;00m:\n\u001b[0;32m    122\u001b[0m         index \u001b[38;5;241m=\u001b[39m ensure_index(index)\n",
      "File \u001b[1;32m~\\anaconda3\\lib\\site-packages\\pandas\\core\\internals\\construction.py:661\u001b[0m, in \u001b[0;36m_extract_index\u001b[1;34m(data)\u001b[0m\n\u001b[0;32m    659\u001b[0m         raw_lengths\u001b[38;5;241m.\u001b[39mappend(\u001b[38;5;28mlen\u001b[39m(val))\n\u001b[0;32m    660\u001b[0m     \u001b[38;5;28;01melif\u001b[39;00m \u001b[38;5;28misinstance\u001b[39m(val, np\u001b[38;5;241m.\u001b[39mndarray) \u001b[38;5;129;01mand\u001b[39;00m val\u001b[38;5;241m.\u001b[39mndim \u001b[38;5;241m>\u001b[39m \u001b[38;5;241m1\u001b[39m:\n\u001b[1;32m--> 661\u001b[0m         \u001b[38;5;28;01mraise\u001b[39;00m \u001b[38;5;167;01mValueError\u001b[39;00m(\u001b[38;5;124m\"\u001b[39m\u001b[38;5;124mPer-column arrays must each be 1-dimensional\u001b[39m\u001b[38;5;124m\"\u001b[39m)\n\u001b[0;32m    663\u001b[0m \u001b[38;5;28;01mif\u001b[39;00m \u001b[38;5;129;01mnot\u001b[39;00m indexes \u001b[38;5;129;01mand\u001b[39;00m \u001b[38;5;129;01mnot\u001b[39;00m raw_lengths:\n\u001b[0;32m    664\u001b[0m     \u001b[38;5;28;01mraise\u001b[39;00m \u001b[38;5;167;01mValueError\u001b[39;00m(\u001b[38;5;124m\"\u001b[39m\u001b[38;5;124mIf using all scalar values, you must pass an index\u001b[39m\u001b[38;5;124m\"\u001b[39m)\n",
      "\u001b[1;31mValueError\u001b[0m: Per-column arrays must each be 1-dimensional"
     ]
    }
   ],
   "source": [
    "df = pd.DataFrame({'Linea': titlestim, 'Ramal':ramaltim, 'Paradas':par_t})\n",
    "df['Ramal'] = df['Ramal'].str.strip()"
   ]
  },
  {
   "cell_type": "code",
   "execution_count": null,
   "id": "19a5e775",
   "metadata": {},
   "outputs": [],
   "source": [
    "df1 = pd.DataFrame({'Linea': titlestip, 'Ramal':ramaltip, 'Paradas':partip})\n",
    "df1['Ramal'] = df1['Ramal'].str.strip()"
   ]
  },
  {
   "cell_type": "code",
   "execution_count": null,
   "id": "eed094ea",
   "metadata": {},
   "outputs": [],
   "source": [
    "df2 = pd.DataFrame({'Linea': titlecas, 'Ramal':ramalcas, ' Paradas':parcas}) \n",
    "df2['Ramal'] = df2['Ramal'].str.strip()"
   ]
  },
  {
   "cell_type": "code",
   "execution_count": null,
   "id": "63c86302",
   "metadata": {},
   "outputs": [],
   "source": [
    "df3 = pd.DataFrame({'Linea': titleb, 'Ramal':ramalb, 'Paradas':parb})\n",
    "df3['Ramal'] = df3['Ramal'].str.strip()"
   ]
  },
  {
   "cell_type": "code",
   "execution_count": null,
   "id": "f63ac99f",
   "metadata": {},
   "outputs": [],
   "source": [
    "writer = pd.ExcelWriter('Moovit_Posadas.xlsx', engine='xlsxwriter')"
   ]
  },
  {
   "cell_type": "code",
   "execution_count": null,
   "id": "3afceb35",
   "metadata": {},
   "outputs": [],
   "source": [
    "df.to_excel(writer, sheet_name='Transporte Integrado Misionero', index=False)\n",
    "df1.to_excel(writer, sheet_name='Tipoka', index=False)\n",
    "df2.to_excel(writer, sheet_name='Casimiro', index=False)\n",
    "df3.to_excel(writer, sheet_name='Bencivenga', index=False)\n",
    "writer.save()"
   ]
  }
 ],
 "metadata": {
  "kernelspec": {
   "display_name": "Python 3 (ipykernel)",
   "language": "python",
   "name": "python3"
  },
  "language_info": {
   "codemirror_mode": {
    "name": "ipython",
    "version": 3
   },
   "file_extension": ".py",
   "mimetype": "text/x-python",
   "name": "python",
   "nbconvert_exporter": "python",
   "pygments_lexer": "ipython3",
   "version": "3.9.12"
  }
 },
 "nbformat": 4,
 "nbformat_minor": 5
}
